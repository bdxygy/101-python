{
 "cells": [
  {
   "cell_type": "markdown",
   "id": "2e2f626a",
   "metadata": {},
   "source": [
    "# Function decalration"
   ]
  },
  {
   "cell_type": "markdown",
   "id": "a089a84c",
   "metadata": {},
   "source": [
    "* ini adalah declaration function dasar"
   ]
  },
  {
   "cell_type": "code",
   "execution_count": 1,
   "id": "eb3c2ca6",
   "metadata": {},
   "outputs": [],
   "source": [
    "def ini_function():\n",
    "    pass"
   ]
  },
  {
   "cell_type": "markdown",
   "id": "a99c3d85",
   "metadata": {},
   "source": [
    "* function decalaration dengan parameter"
   ]
  },
  {
   "cell_type": "code",
   "execution_count": 2,
   "id": "a824d384",
   "metadata": {},
   "outputs": [],
   "source": [
    "def function_with_parameter(parameter, name):\n",
    "    print(parameter, name)"
   ]
  },
  {
   "cell_type": "code",
   "execution_count": 3,
   "id": "8024487c",
   "metadata": {},
   "outputs": [
    {
     "name": "stdout",
     "output_type": "stream",
     "text": [
      "halo budi\n"
     ]
    }
   ],
   "source": [
    "function_with_parameter(\"halo\", \"budi\")"
   ]
  },
  {
   "cell_type": "markdown",
   "id": "df04d288",
   "metadata": {},
   "source": [
    "* menggunakan parameter name untuk mengisi parameter"
   ]
  },
  {
   "cell_type": "code",
   "execution_count": 4,
   "id": "a859702e",
   "metadata": {},
   "outputs": [
    {
     "name": "stdout",
     "output_type": "stream",
     "text": [
      "Hola Budi\n"
     ]
    }
   ],
   "source": [
    "function_with_parameter(parameter=\"Hola\", name=\"Budi\")"
   ]
  }
 ],
 "metadata": {
  "kernelspec": {
   "display_name": "Python 3 (ipykernel)",
   "language": "python",
   "name": "python3"
  },
  "language_info": {
   "codemirror_mode": {
    "name": "ipython",
    "version": 3
   },
   "file_extension": ".py",
   "mimetype": "text/x-python",
   "name": "python",
   "nbconvert_exporter": "python",
   "pygments_lexer": "ipython3",
   "version": "3.10.9"
  }
 },
 "nbformat": 4,
 "nbformat_minor": 5
}
