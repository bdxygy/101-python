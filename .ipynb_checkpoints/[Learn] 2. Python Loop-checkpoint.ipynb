{
 "cells": [
  {
   "cell_type": "markdown",
   "id": "254393df",
   "metadata": {},
   "source": [
    "# For Loop"
   ]
  },
  {
   "cell_type": "code",
   "execution_count": 6,
   "id": "9446d86f",
   "metadata": {},
   "outputs": [],
   "source": [
    "name = \"Budi Santoso\"\n",
    "age = 28"
   ]
  },
  {
   "cell_type": "code",
   "execution_count": 7,
   "id": "ef6aa99b",
   "metadata": {},
   "outputs": [],
   "source": [
    "def print_data():\n",
    "    print(name, age)"
   ]
  },
  {
   "cell_type": "code",
   "execution_count": 8,
   "id": "54d52ceb",
   "metadata": {},
   "outputs": [],
   "source": [
    "def print_data_with_param(parameter_name, parameter_age):\n",
    "    print(parameter_name, parameter_age)"
   ]
  },
  {
   "cell_type": "code",
   "execution_count": 10,
   "id": "499b74e4",
   "metadata": {},
   "outputs": [
    {
     "ename": "NameError",
     "evalue": "name 'parameter_name' is not defined",
     "output_type": "error",
     "traceback": [
      "\u001b[0;31m---------------------------------------------------------------------------\u001b[0m",
      "\u001b[0;31mNameError\u001b[0m                                 Traceback (most recent call last)",
      "Cell \u001b[0;32mIn[10], line 1\u001b[0m\n\u001b[0;32m----> 1\u001b[0m \u001b[43mprint_data_with_param\u001b[49m\u001b[43m(\u001b[49m\u001b[43mname\u001b[49m\u001b[43m,\u001b[49m\u001b[43m \u001b[49m\u001b[43mage\u001b[49m\u001b[43m)\u001b[49m\n",
      "Cell \u001b[0;32mIn[8], line 2\u001b[0m, in \u001b[0;36mprint_data_with_param\u001b[0;34m(paramenter_name, parameter_age)\u001b[0m\n\u001b[1;32m      1\u001b[0m \u001b[38;5;28;01mdef\u001b[39;00m \u001b[38;5;21mprint_data_with_param\u001b[39m(paramenter_name, parameter_age):\n\u001b[0;32m----> 2\u001b[0m     \u001b[38;5;28mprint\u001b[39m(\u001b[43mparameter_name\u001b[49m, parameter_age)\n",
      "\u001b[0;31mNameError\u001b[0m: name 'parameter_name' is not defined"
     ]
    }
   ],
   "source": [
    "print_data_with_param(name, age)"
   ]
  },
  {
   "cell_type": "code",
   "execution_count": null,
   "id": "b2757314",
   "metadata": {},
   "outputs": [],
   "source": []
  }
 ],
 "metadata": {
  "kernelspec": {
   "display_name": "Python 3 (ipykernel)",
   "language": "python",
   "name": "python3"
  },
  "language_info": {
   "codemirror_mode": {
    "name": "ipython",
    "version": 3
   },
   "file_extension": ".py",
   "mimetype": "text/x-python",
   "name": "python",
   "nbconvert_exporter": "python",
   "pygments_lexer": "ipython3",
   "version": "3.10.9"
  }
 },
 "nbformat": 4,
 "nbformat_minor": 5
}
