{
 "cells": [
  {
   "cell_type": "markdown",
   "id": "3122c4c1",
   "metadata": {},
   "source": [
    "# Dictionary"
   ]
  },
  {
   "cell_type": "code",
   "execution_count": 1,
   "id": "b72d8fba",
   "metadata": {},
   "outputs": [],
   "source": [
    "person = {\n",
    "    \"name\": \"Budi Santoso\",\n",
    "    \"from\": \"Blitar\"\n",
    "}"
   ]
  },
  {
   "cell_type": "code",
   "execution_count": 2,
   "id": "1fd27f1e",
   "metadata": {},
   "outputs": [
    {
     "data": {
      "text/plain": [
       "{'name': 'Budi Santoso', 'from': 'Blitar'}"
      ]
     },
     "execution_count": 2,
     "metadata": {},
     "output_type": "execute_result"
    }
   ],
   "source": [
    "person"
   ]
  },
  {
   "cell_type": "code",
   "execution_count": 3,
   "id": "9e38c647",
   "metadata": {},
   "outputs": [
    {
     "data": {
      "text/plain": [
       "dict_items([('name', 'Budi Santoso'), ('from', 'Blitar')])"
      ]
     },
     "execution_count": 3,
     "metadata": {},
     "output_type": "execute_result"
    }
   ],
   "source": [
    "person.items()"
   ]
  },
  {
   "cell_type": "code",
   "execution_count": 4,
   "id": "5c3c31a3",
   "metadata": {},
   "outputs": [
    {
     "name": "stdout",
     "output_type": "stream",
     "text": [
      "name =>  Budi Santoso\n",
      "from =>  Blitar\n"
     ]
    }
   ],
   "source": [
    "for key, value in person.items():\n",
    "    print(key, '=> ', value)"
   ]
  },
  {
   "cell_type": "code",
   "execution_count": 5,
   "id": "6863be65",
   "metadata": {},
   "outputs": [],
   "source": [
    "person2 = dict(name=\"Budi Santoso Too\")"
   ]
  },
  {
   "cell_type": "code",
   "execution_count": 6,
   "id": "2c8f6dc9",
   "metadata": {},
   "outputs": [
    {
     "data": {
      "text/plain": [
       "{'name': 'Budi Santoso Too'}"
      ]
     },
     "execution_count": 6,
     "metadata": {},
     "output_type": "execute_result"
    }
   ],
   "source": [
    "person2"
   ]
  },
  {
   "cell_type": "code",
   "execution_count": 7,
   "id": "24d3e920",
   "metadata": {},
   "outputs": [],
   "source": [
    "keys = [key for key in person2.values()]"
   ]
  },
  {
   "cell_type": "code",
   "execution_count": 8,
   "id": "847f7922",
   "metadata": {},
   "outputs": [
    {
     "data": {
      "text/plain": [
       "['Budi Santoso Too']"
      ]
     },
     "execution_count": 8,
     "metadata": {},
     "output_type": "execute_result"
    }
   ],
   "source": [
    "keys"
   ]
  },
  {
   "cell_type": "markdown",
   "id": "513c6b2a",
   "metadata": {},
   "source": [
    "# List"
   ]
  },
  {
   "cell_type": "code",
   "execution_count": 9,
   "id": "87667db7",
   "metadata": {},
   "outputs": [],
   "source": [
    "persons = [\"budi\", 'santoso']"
   ]
  },
  {
   "cell_type": "code",
   "execution_count": 10,
   "id": "2f5ff17a",
   "metadata": {},
   "outputs": [],
   "source": [
    "persons2 = list(persons)"
   ]
  },
  {
   "cell_type": "code",
   "execution_count": 11,
   "id": "f42e6fc3",
   "metadata": {},
   "outputs": [
    {
     "data": {
      "text/plain": [
       "['budi', 'santoso']"
      ]
     },
     "execution_count": 11,
     "metadata": {},
     "output_type": "execute_result"
    }
   ],
   "source": [
    "persons"
   ]
  },
  {
   "cell_type": "code",
   "execution_count": 12,
   "id": "5cdc04db",
   "metadata": {},
   "outputs": [
    {
     "data": {
      "text/plain": [
       "['budi', 'santoso']"
      ]
     },
     "execution_count": 12,
     "metadata": {},
     "output_type": "execute_result"
    }
   ],
   "source": [
    "persons2"
   ]
  },
  {
   "cell_type": "code",
   "execution_count": 13,
   "id": "c86576fc",
   "metadata": {},
   "outputs": [],
   "source": [
    "new_set = set(persons)"
   ]
  },
  {
   "cell_type": "code",
   "execution_count": 14,
   "id": "ed977ee7",
   "metadata": {},
   "outputs": [
    {
     "data": {
      "text/plain": [
       "{'budi', 'santoso'}"
      ]
     },
     "execution_count": 14,
     "metadata": {},
     "output_type": "execute_result"
    }
   ],
   "source": [
    "new_set"
   ]
  },
  {
   "cell_type": "markdown",
   "id": "b6fa67fc",
   "metadata": {},
   "source": [
    "## Append to list"
   ]
  },
  {
   "cell_type": "code",
   "execution_count": 15,
   "id": "c5ba3e64",
   "metadata": {},
   "outputs": [],
   "source": [
    "persons.append(\"jakarta\")"
   ]
  },
  {
   "cell_type": "code",
   "execution_count": 16,
   "id": "37a9e4cc",
   "metadata": {},
   "outputs": [
    {
     "data": {
      "text/plain": [
       "['budi', 'santoso', 'jakarta']"
      ]
     },
     "execution_count": 16,
     "metadata": {},
     "output_type": "execute_result"
    }
   ],
   "source": [
    "persons"
   ]
  },
  {
   "cell_type": "markdown",
   "id": "c1bd8e8d",
   "metadata": {},
   "source": [
    "## Comprehension Lists"
   ]
  },
  {
   "cell_type": "code",
   "execution_count": 17,
   "id": "ce5509fc",
   "metadata": {},
   "outputs": [],
   "source": [
    "new_persons = list(filter(lambda person: len(person) > 4, persons))"
   ]
  },
  {
   "cell_type": "code",
   "execution_count": 18,
   "id": "0b500fca",
   "metadata": {},
   "outputs": [],
   "source": [
    "new_persons2 = [person.capitalize() for person in persons if person == \"budi\"]"
   ]
  },
  {
   "cell_type": "code",
   "execution_count": 19,
   "id": "50e43f53",
   "metadata": {},
   "outputs": [
    {
     "data": {
      "text/plain": [
       "['santoso', 'jakarta']"
      ]
     },
     "execution_count": 19,
     "metadata": {},
     "output_type": "execute_result"
    }
   ],
   "source": [
    "new_persons"
   ]
  },
  {
   "cell_type": "code",
   "execution_count": 20,
   "id": "1bccc7b3",
   "metadata": {},
   "outputs": [
    {
     "data": {
      "text/plain": [
       "['Budi']"
      ]
     },
     "execution_count": 20,
     "metadata": {},
     "output_type": "execute_result"
    }
   ],
   "source": [
    "new_persons2"
   ]
  },
  {
   "cell_type": "markdown",
   "id": "8d20470a",
   "metadata": {},
   "source": [
    "## Maping list "
   ]
  },
  {
   "cell_type": "code",
   "execution_count": 21,
   "id": "587474e6",
   "metadata": {},
   "outputs": [],
   "source": [
    "new_list = [l.capitalize() for l in persons]"
   ]
  },
  {
   "cell_type": "code",
   "execution_count": 22,
   "id": "c05289e6",
   "metadata": {},
   "outputs": [
    {
     "data": {
      "text/plain": [
       "['Budi', 'Santoso', 'Jakarta']"
      ]
     },
     "execution_count": 22,
     "metadata": {},
     "output_type": "execute_result"
    }
   ],
   "source": [
    "new_list"
   ]
  },
  {
   "cell_type": "code",
   "execution_count": 23,
   "id": "fb405644",
   "metadata": {},
   "outputs": [],
   "source": [
    "xtra_list = [person.capitalize() if len(person) > 4 else person for person in persons if type(person) != \"int\"]"
   ]
  },
  {
   "cell_type": "code",
   "execution_count": 24,
   "id": "009f1d30",
   "metadata": {},
   "outputs": [
    {
     "data": {
      "text/plain": [
       "['budi', 'Santoso', 'Jakarta']"
      ]
     },
     "execution_count": 24,
     "metadata": {},
     "output_type": "execute_result"
    }
   ],
   "source": [
    "xtra_list"
   ]
  },
  {
   "cell_type": "markdown",
   "id": "bbe93624",
   "metadata": {},
   "source": [
    "## Mapping Dictionary"
   ]
  },
  {
   "cell_type": "code",
   "execution_count": 25,
   "id": "601fd330",
   "metadata": {},
   "outputs": [],
   "source": [
    "new_dict = [{\"name\": \"Budi\", \"age\": 27},{\"name\": \"Santoso\", \"age\": 12}]"
   ]
  },
  {
   "cell_type": "code",
   "execution_count": 26,
   "id": "d7ead097",
   "metadata": {},
   "outputs": [
    {
     "data": {
      "text/plain": [
       "[{'name': 'Budi', 'age': 27}, {'name': 'Santoso', 'age': 12}]"
      ]
     },
     "execution_count": 26,
     "metadata": {},
     "output_type": "execute_result"
    }
   ],
   "source": [
    "new_dict"
   ]
  },
  {
   "cell_type": "code",
   "execution_count": 27,
   "id": "6b7c04b5",
   "metadata": {},
   "outputs": [],
   "source": [
    "old_person = [{**person, \"is_senior\": True} for person in new_dict if person[\"age\"] > 20]"
   ]
  },
  {
   "cell_type": "code",
   "execution_count": 28,
   "id": "b87c9008",
   "metadata": {},
   "outputs": [
    {
     "data": {
      "text/plain": [
       "[{'name': 'Budi', 'age': 27, 'is_senior': True}]"
      ]
     },
     "execution_count": 28,
     "metadata": {},
     "output_type": "execute_result"
    }
   ],
   "source": [
    "old_person"
   ]
  },
  {
   "cell_type": "code",
   "execution_count": 29,
   "id": "b5790ffc",
   "metadata": {},
   "outputs": [],
   "source": [
    "old_person = [{**person, \"name\": person[\"name\"].upper()} for person in old_person]"
   ]
  },
  {
   "cell_type": "code",
   "execution_count": 30,
   "id": "137ba34a",
   "metadata": {},
   "outputs": [
    {
     "data": {
      "text/plain": [
       "[{'name': 'BUDI', 'age': 27, 'is_senior': True}]"
      ]
     },
     "execution_count": 30,
     "metadata": {},
     "output_type": "execute_result"
    }
   ],
   "source": [
    "old_person"
   ]
  },
  {
   "cell_type": "code",
   "execution_count": 31,
   "id": "a7d7484d",
   "metadata": {},
   "outputs": [],
   "source": [
    "sp_list = [*new_dict, *old_person]"
   ]
  },
  {
   "cell_type": "code",
   "execution_count": 32,
   "id": "4e7e2185",
   "metadata": {},
   "outputs": [
    {
     "data": {
      "text/plain": [
       "[{'name': 'Budi', 'age': 27},\n",
       " {'name': 'Santoso', 'age': 12},\n",
       " {'name': 'BUDI', 'age': 27, 'is_senior': True}]"
      ]
     },
     "execution_count": 32,
     "metadata": {},
     "output_type": "execute_result"
    }
   ],
   "source": [
    "sp_list"
   ]
  },
  {
   "cell_type": "code",
   "execution_count": 33,
   "id": "7d28a6e4",
   "metadata": {},
   "outputs": [],
   "source": [
    "senior_list = [senior for senior in sp_list if senior.get(\"is_senior\") is not None]"
   ]
  },
  {
   "cell_type": "code",
   "execution_count": 34,
   "id": "1c363644",
   "metadata": {},
   "outputs": [
    {
     "data": {
      "text/plain": [
       "[{'name': 'BUDI', 'age': 27, 'is_senior': True}]"
      ]
     },
     "execution_count": 34,
     "metadata": {},
     "output_type": "execute_result"
    }
   ],
   "source": [
    "senior_list"
   ]
  },
  {
   "cell_type": "code",
   "execution_count": 35,
   "id": "eaf2ba3b",
   "metadata": {},
   "outputs": [],
   "source": [
    "senior_list2 = [senior for senior in sp_list if \"is_senior\" in senior]"
   ]
  },
  {
   "cell_type": "code",
   "execution_count": 36,
   "id": "5e0773c3",
   "metadata": {},
   "outputs": [
    {
     "data": {
      "text/plain": [
       "[{'name': 'BUDI', 'age': 27, 'is_senior': True}]"
      ]
     },
     "execution_count": 36,
     "metadata": {},
     "output_type": "execute_result"
    }
   ],
   "source": [
    "senior_list2"
   ]
  },
  {
   "cell_type": "markdown",
   "id": "eccec015",
   "metadata": {},
   "source": [
    "## Delete specific key from list of dictionary"
   ]
  },
  {
   "cell_type": "code",
   "execution_count": 37,
   "id": "8897bde2",
   "metadata": {},
   "outputs": [],
   "source": [
    "unsenior_list = list(map(lambda l: {key:value for key,value in l.items() if key != \"is_senior\"} , sp_list))"
   ]
  },
  {
   "cell_type": "code",
   "execution_count": 38,
   "id": "359fffc0",
   "metadata": {},
   "outputs": [],
   "source": [
    "unsenior_list2 = [{key: value for key,value in person.items() if key != \"is_senior\"} for person in sp_list]"
   ]
  },
  {
   "cell_type": "code",
   "execution_count": 39,
   "id": "46bcd8bf",
   "metadata": {},
   "outputs": [
    {
     "data": {
      "text/plain": [
       "[{'name': 'Budi', 'age': 27},\n",
       " {'name': 'Santoso', 'age': 12},\n",
       " {'name': 'BUDI', 'age': 27}]"
      ]
     },
     "execution_count": 39,
     "metadata": {},
     "output_type": "execute_result"
    }
   ],
   "source": [
    "unsenior_list"
   ]
  },
  {
   "cell_type": "raw",
   "id": "8e2790b8",
   "metadata": {},
   "source": [
    "unsenior_list2"
   ]
  },
  {
   "cell_type": "markdown",
   "id": "56400766",
   "metadata": {},
   "source": [
    "# Exercise"
   ]
  },
  {
   "cell_type": "code",
   "execution_count": 40,
   "id": "6d074f0c",
   "metadata": {},
   "outputs": [],
   "source": [
    "location_list = [\"California\", \"New Jersey\", \"Rhode Island\"]\n",
    "alias_list = [\"CA\", \"NJ\", \"RI\"]"
   ]
  },
  {
   "cell_type": "code",
   "execution_count": 41,
   "id": "3f6caea5",
   "metadata": {},
   "outputs": [],
   "source": [
    "location_obj = {alias_list[i]: location_list[i] for i in range(len(location_list))}"
   ]
  },
  {
   "cell_type": "code",
   "execution_count": 42,
   "id": "973fcafd",
   "metadata": {},
   "outputs": [
    {
     "data": {
      "text/plain": [
       "{'CA': 'California', 'NJ': 'New Jersey', 'RI': 'Rhode Island'}"
      ]
     },
     "execution_count": 42,
     "metadata": {},
     "output_type": "execute_result"
    }
   ],
   "source": [
    "location_obj"
   ]
  }
 ],
 "metadata": {
  "kernelspec": {
   "display_name": "Python 3 (ipykernel)",
   "language": "python",
   "name": "python3"
  },
  "language_info": {
   "codemirror_mode": {
    "name": "ipython",
    "version": 3
   },
   "file_extension": ".py",
   "mimetype": "text/x-python",
   "name": "python",
   "nbconvert_exporter": "python",
   "pygments_lexer": "ipython3",
   "version": "3.10.9"
  }
 },
 "nbformat": 4,
 "nbformat_minor": 5
}
