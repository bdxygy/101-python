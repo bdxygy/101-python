{
 "cells": [
  {
   "cell_type": "markdown",
   "id": "a78e2800",
   "metadata": {},
   "source": [
    "# Milliage Project"
   ]
  },
  {
   "cell_type": "code",
   "execution_count": 7,
   "id": "8161847e",
   "metadata": {},
   "outputs": [],
   "source": [
    "sys_status = True"
   ]
  },
  {
   "cell_type": "code",
   "execution_count": 8,
   "id": "268a44be",
   "metadata": {},
   "outputs": [
    {
     "name": "stdout",
     "output_type": "stream",
     "text": [
      "Insert your age :12\n",
      "378683112000\n",
      "Are you want to repeat test? 'y' or 'n'y\n",
      "Insert your age :13\n",
      "410240038000\n",
      "Are you want to repeat test? 'y' or 'n'n\n"
     ]
    }
   ],
   "source": [
    "while(sys_status):\n",
    "    user_age = int(input(\"Insert your age :\"))\n",
    "    ma = user_age * 31556926000\n",
    "    print(ma)\n",
    "    sys_update = input(\"Are you want to repeat test? 'y' or 'n'\")\n",
    "    if(sys_update != 'y'):\n",
    "        sys_status = False"
   ]
  }
 ],
 "metadata": {
  "kernelspec": {
   "display_name": "Python 3 (ipykernel)",
   "language": "python",
   "name": "python3"
  },
  "language_info": {
   "codemirror_mode": {
    "name": "ipython",
    "version": 3
   },
   "file_extension": ".py",
   "mimetype": "text/x-python",
   "name": "python",
   "nbconvert_exporter": "python",
   "pygments_lexer": "ipython3",
   "version": "3.10.9"
  }
 },
 "nbformat": 4,
 "nbformat_minor": 5
}
