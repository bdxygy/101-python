{
 "cells": [
  {
   "cell_type": "markdown",
   "id": "a9809cef",
   "metadata": {},
   "source": [
    "# For Loop"
   ]
  },
  {
   "cell_type": "code",
   "execution_count": 11,
   "id": "be2a160a",
   "metadata": {},
   "outputs": [],
   "source": [
    "name = \"Budi Santoso\"\n",
    "age = 28"
   ]
  },
  {
   "cell_type": "code",
   "execution_count": 12,
   "id": "0e4e2a52",
   "metadata": {},
   "outputs": [],
   "source": [
    "def print_data():\n",
    "    print(name, age)"
   ]
  },
  {
   "cell_type": "code",
   "execution_count": 16,
   "id": "5426311b",
   "metadata": {},
   "outputs": [],
   "source": [
    "def print_data_with_param(first_parameter, second_parameter):\n",
    "    print(first_parameter, second_parameter)"
   ]
  },
  {
   "cell_type": "code",
   "execution_count": 20,
   "id": "86e688eb",
   "metadata": {},
   "outputs": [],
   "source": [
    "def print_decades(parameter_age):\n",
    "    if(parameter_age < 10):\n",
    "        print(\"Your age too low\")\n",
    "        return\n",
    "    print(int(parameter_age/10))"
   ]
  },
  {
   "cell_type": "code",
   "execution_count": 21,
   "id": "a5fbf93e",
   "metadata": {},
   "outputs": [
    {
     "name": "stdout",
     "output_type": "stream",
     "text": [
      "Budi Santoso 28\n",
      "Budi Santoso 28\n",
      "2\n"
     ]
    }
   ],
   "source": [
    "print_data()\n",
    "print_data_with_param(name, age)\n",
    "print_decades(20)"
   ]
  },
  {
   "cell_type": "code",
   "execution_count": null,
   "id": "1ef94b7a",
   "metadata": {},
   "outputs": [],
   "source": []
  }
 ],
 "metadata": {
  "kernelspec": {
   "display_name": "Python 3 (ipykernel)",
   "language": "python",
   "name": "python3"
  },
  "language_info": {
   "codemirror_mode": {
    "name": "ipython",
    "version": 3
   },
   "file_extension": ".py",
   "mimetype": "text/x-python",
   "name": "python",
   "nbconvert_exporter": "python",
   "pygments_lexer": "ipython3",
   "version": "3.10.9"
  }
 },
 "nbformat": 4,
 "nbformat_minor": 5
}
